{
  "nbformat": 4,
  "nbformat_minor": 0,
  "metadata": {
    "kernelspec": {
      "display_name": "Python 3",
      "language": "python",
      "name": "python3"
    },
    "language_info": {
      "codemirror_mode": {
        "name": "ipython",
        "version": 3
      },
      "file_extension": ".py",
      "mimetype": "text/x-python",
      "name": "python",
      "nbconvert_exporter": "python",
      "pygments_lexer": "ipython3",
      "version": "3.7.4"
    },
    "colab": {
      "name": "Deliverable #1.ipynb",
      "provenance": [],
      "include_colab_link": true
    }
  },
  "cells": [
    {
      "cell_type": "markdown",
      "metadata": {
        "id": "view-in-github",
        "colab_type": "text"
      },
      "source": [
        "<a href=\"https://colab.research.google.com/github/YM53858/Stock-Market-Analysis/blob/main/Deliverable_1.ipynb\" target=\"_parent\"><img src=\"https://colab.research.google.com/assets/colab-badge.svg\" alt=\"Open In Colab\"/></a>"
      ]
    },
    {
      "cell_type": "markdown",
      "metadata": {
        "id": "COjWt8CicUqR"
      },
      "source": [
        "# Deliverable #1 - "
      ]
    },
    {
      "cell_type": "markdown",
      "metadata": {
        "id": "Dw719eQ1cUqT"
      },
      "source": [
        "- **What is your issue of interest (provide sufficient background information)?**"
      ]
    },
    {
      "cell_type": "markdown",
      "metadata": {
        "id": "pn941e43cUqU"
      },
      "source": [
        "    My research interest for Individual Project is Stoct Market Anlaysis on S&P 500(Standard and Poor’s 500)Index Companies."
      ]
    },
    {
      "cell_type": "markdown",
      "metadata": {
        "id": "p56Ngf2-cUqV"
      },
      "source": [
        "- **Why is this issue important to you and/or to others?**"
      ]
    },
    {
      "cell_type": "markdown",
      "metadata": {
        "id": "Gpyitzx-cUqX"
      },
      "source": [
        "    I have recently started studying stock market finance data, I am really curious to know about how the Stock Market works and What are the things that investors should be aware of before investing in the companies."
      ]
    },
    {
      "cell_type": "markdown",
      "metadata": {
        "id": "hH2G3Z94cUqY"
      },
      "source": [
        "- **What questions do you have in mind and would like to answer?**"
      ]
    },
    {
      "cell_type": "markdown",
      "metadata": {
        "id": "ypQ8G7I6cUqZ"
      },
      "source": [
        "    1. What was the change in price of a specific stock over time?\n",
        "    2. What was the daily return of a specific stock on average?\n",
        "    3. What was the moving average of the various stocks?\n",
        "    4. What was the correlation between different S&P 500 stocks'?\n",
        "    5. How much value do we put at risk by investing in a particular stock?\n",
        "    6. What are the better ways to predict future stock behavior? "
      ]
    },
    {
      "cell_type": "markdown",
      "metadata": {
        "id": "XiA2DSOHcUqa"
      },
      "source": [
        "- **Where do you get the data to help answer your questions?**"
      ]
    },
    {
      "cell_type": "markdown",
      "metadata": {
        "id": "EWR2J8nTcUqb"
      },
      "source": [
        "    Currently I am figuring which is a safe and better way for getting the stock data. So far, these are the ways that I have explored:\n",
        "\n",
        "    1. Using this data scource:'https://datahub.io/core/s-and-p-500/datapackage.json' from the website Datahub.io\n",
        "\n",
        "    2. Reading stock data from Yahoo using Yahoo Finance API. For this we have to use a python library called yfinance.Yahoo Finance API provides access to more than five years of daily OHLC price data. Also, you can get minutes OHLC data for recent days.Using the Yahoo API (without authentication), you are limited to 2,000 requests per hour per IP or up to a total of 48,000 requests a day.\n",
        "\n",
        "    3. Reading past one year Stock Data before current date from Yahoo using pandas_datareader python library's DataReader  "
      ]
    },
    {
      "cell_type": "markdown",
      "metadata": {
        "id": "eVqewr_rcUqc"
      },
      "source": [
        "- **What will be your unit of analysis (for example, patient, organization, or country)? Roughly how many units do you expect to analyze?**"
      ]
    },
    {
      "cell_type": "markdown",
      "metadata": {
        "id": "pcsvc7HDcUqd"
      },
      "source": [
        "    I am planning to do my analysis on US Stock Market data for Standard and Poor’s 500(S&P 500) Index Companies based on atleast one year stock data till date."
      ]
    },
    {
      "cell_type": "markdown",
      "metadata": {
        "id": "ITif56HEcUqe"
      },
      "source": [
        "- **What variables/measures do you plan to use in your analysis?**"
      ]
    },
    {
      "cell_type": "markdown",
      "metadata": {
        "id": "jLq4_SMscUqf"
      },
      "source": [
        "    I am planning to use these below 6 variable/indicator measures for my analysis:\n",
        "\n",
        "    - Earnings per share (EPS), \n",
        "    - Price to earnings (P/E) ratio, \n",
        "    - Price to earnings ratio to growth ratio (PEG), \n",
        "    - Price to book value ratio (P/B), \n",
        "    - Dividend payout ratio (DPR),  \n",
        "    - Dividend yield\n"
      ]
    },
    {
      "cell_type": "markdown",
      "metadata": {
        "id": "SU5Rk5tmcUqg"
      },
      "source": [
        "- **What kinds of techniques do you you plan to use (for example, summary statistics, scatter plot, bar chart, chi-squared test)?**"
      ]
    },
    {
      "cell_type": "markdown",
      "metadata": {
        "id": "5bIJwAYAcUqh"
      },
      "source": [
        "    I am planning to use Line charts, Bar Charts & Correlation Plots along with summary statstics in my analysis."
      ]
    },
    {
      "cell_type": "markdown",
      "metadata": {
        "id": "jSnBCRCzcUqh"
      },
      "source": [
        "------------------------------------------------------------------------------"
      ]
    },
    {
      "cell_type": "markdown",
      "metadata": {
        "id": "DrkvuTgXcUqi"
      },
      "source": [
        "## First  Draft :-"
      ]
    },
    {
      "cell_type": "code",
      "metadata": {
        "id": "OjtVnsd1cUqj"
      },
      "source": [
        "import yfinance as yf\n",
        "\n",
        "import pandas as pd\n",
        "import numpy as np\n",
        "\n",
        "import matplotlib.pyplot as plt\n",
        "import seaborn as sns\n",
        "\n",
        "from datetime import datetime"
      ],
      "execution_count": null,
      "outputs": []
    },
    {
      "cell_type": "code",
      "metadata": {
        "id": "qfiT43TFcUqn"
      },
      "source": [
        "my_stock_list = ['TSLA', 'ORTX', 'CYTK', 'AAPL']\n",
        "\n",
        "for stock in my_stock_list:\n",
        "    globals()[stock] = yf.Ticker(stock).history(period=\"1y\") # 1 year data till current date"
      ],
      "execution_count": null,
      "outputs": []
    },
    {
      "cell_type": "code",
      "metadata": {
        "id": "v8W04dxAcUqq",
        "outputId": "9e93a6a4-aaf2-4133-c186-f065880ff565"
      },
      "source": [
        "company_list = [TSLA, ORTX, CYTK, AAPL]\n",
        "company_name = [\"TESLA\", \"ORCHARD THERAPEUTICS\", \"CYTOKINETICS\", \"APPLE\"]\n",
        "\n",
        "for company, com_name in zip(company_list, company_name):\n",
        "    company[\"company_name\"] = com_name\n",
        "    \n",
        "df = pd.concat(company_list, axis=0)\n",
        "df"
      ],
      "execution_count": null,
      "outputs": [
        {
          "output_type": "execute_result",
          "data": {
            "text/html": [
              "<div>\n",
              "<style scoped>\n",
              "    .dataframe tbody tr th:only-of-type {\n",
              "        vertical-align: middle;\n",
              "    }\n",
              "\n",
              "    .dataframe tbody tr th {\n",
              "        vertical-align: top;\n",
              "    }\n",
              "\n",
              "    .dataframe thead th {\n",
              "        text-align: right;\n",
              "    }\n",
              "</style>\n",
              "<table border=\"1\" class=\"dataframe\">\n",
              "  <thead>\n",
              "    <tr style=\"text-align: right;\">\n",
              "      <th></th>\n",
              "      <th>Open</th>\n",
              "      <th>High</th>\n",
              "      <th>Low</th>\n",
              "      <th>Close</th>\n",
              "      <th>Volume</th>\n",
              "      <th>Dividends</th>\n",
              "      <th>Stock Splits</th>\n",
              "      <th>company_name</th>\n",
              "    </tr>\n",
              "    <tr>\n",
              "      <th>Date</th>\n",
              "      <th></th>\n",
              "      <th></th>\n",
              "      <th></th>\n",
              "      <th></th>\n",
              "      <th></th>\n",
              "      <th></th>\n",
              "      <th></th>\n",
              "      <th></th>\n",
              "    </tr>\n",
              "  </thead>\n",
              "  <tbody>\n",
              "    <tr>\n",
              "      <td>2019-10-10</td>\n",
              "      <td>49.056000</td>\n",
              "      <td>49.855999</td>\n",
              "      <td>48.316002</td>\n",
              "      <td>48.948002</td>\n",
              "      <td>31416500</td>\n",
              "      <td>0.0</td>\n",
              "      <td>0.0</td>\n",
              "      <td>TESLA</td>\n",
              "    </tr>\n",
              "    <tr>\n",
              "      <td>2019-10-11</td>\n",
              "      <td>49.430000</td>\n",
              "      <td>50.216000</td>\n",
              "      <td>49.362000</td>\n",
              "      <td>49.577999</td>\n",
              "      <td>42377000</td>\n",
              "      <td>0.0</td>\n",
              "      <td>0.0</td>\n",
              "      <td>TESLA</td>\n",
              "    </tr>\n",
              "    <tr>\n",
              "      <td>2019-10-14</td>\n",
              "      <td>49.580002</td>\n",
              "      <td>51.709999</td>\n",
              "      <td>49.425999</td>\n",
              "      <td>51.391998</td>\n",
              "      <td>51025000</td>\n",
              "      <td>0.0</td>\n",
              "      <td>0.0</td>\n",
              "      <td>TESLA</td>\n",
              "    </tr>\n",
              "    <tr>\n",
              "      <td>2019-10-15</td>\n",
              "      <td>51.540001</td>\n",
              "      <td>52.000000</td>\n",
              "      <td>50.824001</td>\n",
              "      <td>51.577999</td>\n",
              "      <td>32164000</td>\n",
              "      <td>0.0</td>\n",
              "      <td>0.0</td>\n",
              "      <td>TESLA</td>\n",
              "    </tr>\n",
              "    <tr>\n",
              "      <td>2019-10-16</td>\n",
              "      <td>51.478001</td>\n",
              "      <td>52.419998</td>\n",
              "      <td>51.383999</td>\n",
              "      <td>51.950001</td>\n",
              "      <td>33420500</td>\n",
              "      <td>0.0</td>\n",
              "      <td>0.0</td>\n",
              "      <td>TESLA</td>\n",
              "    </tr>\n",
              "    <tr>\n",
              "      <td>...</td>\n",
              "      <td>...</td>\n",
              "      <td>...</td>\n",
              "      <td>...</td>\n",
              "      <td>...</td>\n",
              "      <td>...</td>\n",
              "      <td>...</td>\n",
              "      <td>...</td>\n",
              "      <td>...</td>\n",
              "    </tr>\n",
              "    <tr>\n",
              "      <td>2020-10-05</td>\n",
              "      <td>113.910004</td>\n",
              "      <td>116.650002</td>\n",
              "      <td>113.550003</td>\n",
              "      <td>116.500000</td>\n",
              "      <td>106243800</td>\n",
              "      <td>0.0</td>\n",
              "      <td>0.0</td>\n",
              "      <td>APPLE</td>\n",
              "    </tr>\n",
              "    <tr>\n",
              "      <td>2020-10-06</td>\n",
              "      <td>115.699997</td>\n",
              "      <td>116.120003</td>\n",
              "      <td>112.250000</td>\n",
              "      <td>113.160004</td>\n",
              "      <td>161498200</td>\n",
              "      <td>0.0</td>\n",
              "      <td>0.0</td>\n",
              "      <td>APPLE</td>\n",
              "    </tr>\n",
              "    <tr>\n",
              "      <td>2020-10-07</td>\n",
              "      <td>114.620003</td>\n",
              "      <td>115.550003</td>\n",
              "      <td>114.129997</td>\n",
              "      <td>115.080002</td>\n",
              "      <td>96849000</td>\n",
              "      <td>0.0</td>\n",
              "      <td>0.0</td>\n",
              "      <td>APPLE</td>\n",
              "    </tr>\n",
              "    <tr>\n",
              "      <td>2020-10-08</td>\n",
              "      <td>116.250000</td>\n",
              "      <td>116.400002</td>\n",
              "      <td>114.589996</td>\n",
              "      <td>114.970001</td>\n",
              "      <td>83032000</td>\n",
              "      <td>0.0</td>\n",
              "      <td>0.0</td>\n",
              "      <td>APPLE</td>\n",
              "    </tr>\n",
              "    <tr>\n",
              "      <td>2020-10-09</td>\n",
              "      <td>115.279999</td>\n",
              "      <td>117.000000</td>\n",
              "      <td>114.919998</td>\n",
              "      <td>116.970001</td>\n",
              "      <td>95695309</td>\n",
              "      <td>0.0</td>\n",
              "      <td>0.0</td>\n",
              "      <td>APPLE</td>\n",
              "    </tr>\n",
              "  </tbody>\n",
              "</table>\n",
              "<p>1012 rows × 8 columns</p>\n",
              "</div>"
            ],
            "text/plain": [
              "                  Open        High         Low       Close     Volume  \\\n",
              "Date                                                                    \n",
              "2019-10-10   49.056000   49.855999   48.316002   48.948002   31416500   \n",
              "2019-10-11   49.430000   50.216000   49.362000   49.577999   42377000   \n",
              "2019-10-14   49.580002   51.709999   49.425999   51.391998   51025000   \n",
              "2019-10-15   51.540001   52.000000   50.824001   51.577999   32164000   \n",
              "2019-10-16   51.478001   52.419998   51.383999   51.950001   33420500   \n",
              "...                ...         ...         ...         ...        ...   \n",
              "2020-10-05  113.910004  116.650002  113.550003  116.500000  106243800   \n",
              "2020-10-06  115.699997  116.120003  112.250000  113.160004  161498200   \n",
              "2020-10-07  114.620003  115.550003  114.129997  115.080002   96849000   \n",
              "2020-10-08  116.250000  116.400002  114.589996  114.970001   83032000   \n",
              "2020-10-09  115.279999  117.000000  114.919998  116.970001   95695309   \n",
              "\n",
              "            Dividends  Stock Splits company_name  \n",
              "Date                                              \n",
              "2019-10-10        0.0           0.0        TESLA  \n",
              "2019-10-11        0.0           0.0        TESLA  \n",
              "2019-10-14        0.0           0.0        TESLA  \n",
              "2019-10-15        0.0           0.0        TESLA  \n",
              "2019-10-16        0.0           0.0        TESLA  \n",
              "...               ...           ...          ...  \n",
              "2020-10-05        0.0           0.0        APPLE  \n",
              "2020-10-06        0.0           0.0        APPLE  \n",
              "2020-10-07        0.0           0.0        APPLE  \n",
              "2020-10-08        0.0           0.0        APPLE  \n",
              "2020-10-09        0.0           0.0        APPLE  \n",
              "\n",
              "[1012 rows x 8 columns]"
            ]
          },
          "metadata": {
            "tags": []
          },
          "execution_count": 18
        }
      ]
    },
    {
      "cell_type": "markdown",
      "metadata": {
        "id": "TPYMmh6ccUqt"
      },
      "source": [
        "### Lets look at TESLA's stock"
      ]
    },
    {
      "cell_type": "code",
      "metadata": {
        "id": "_xWXmO5AcUqu",
        "outputId": "1ba42f07-dd10-4e80-abe5-2412df25733b"
      },
      "source": [
        "TSLA.head()"
      ],
      "execution_count": null,
      "outputs": [
        {
          "output_type": "execute_result",
          "data": {
            "text/html": [
              "<div>\n",
              "<style scoped>\n",
              "    .dataframe tbody tr th:only-of-type {\n",
              "        vertical-align: middle;\n",
              "    }\n",
              "\n",
              "    .dataframe tbody tr th {\n",
              "        vertical-align: top;\n",
              "    }\n",
              "\n",
              "    .dataframe thead th {\n",
              "        text-align: right;\n",
              "    }\n",
              "</style>\n",
              "<table border=\"1\" class=\"dataframe\">\n",
              "  <thead>\n",
              "    <tr style=\"text-align: right;\">\n",
              "      <th></th>\n",
              "      <th>Open</th>\n",
              "      <th>High</th>\n",
              "      <th>Low</th>\n",
              "      <th>Close</th>\n",
              "      <th>Volume</th>\n",
              "      <th>Dividends</th>\n",
              "      <th>Stock Splits</th>\n",
              "      <th>company_name</th>\n",
              "    </tr>\n",
              "    <tr>\n",
              "      <th>Date</th>\n",
              "      <th></th>\n",
              "      <th></th>\n",
              "      <th></th>\n",
              "      <th></th>\n",
              "      <th></th>\n",
              "      <th></th>\n",
              "      <th></th>\n",
              "      <th></th>\n",
              "    </tr>\n",
              "  </thead>\n",
              "  <tbody>\n",
              "    <tr>\n",
              "      <td>2019-10-10</td>\n",
              "      <td>49.056000</td>\n",
              "      <td>49.855999</td>\n",
              "      <td>48.316002</td>\n",
              "      <td>48.948002</td>\n",
              "      <td>31416500</td>\n",
              "      <td>0</td>\n",
              "      <td>0.0</td>\n",
              "      <td>TESLA</td>\n",
              "    </tr>\n",
              "    <tr>\n",
              "      <td>2019-10-11</td>\n",
              "      <td>49.430000</td>\n",
              "      <td>50.216000</td>\n",
              "      <td>49.362000</td>\n",
              "      <td>49.577999</td>\n",
              "      <td>42377000</td>\n",
              "      <td>0</td>\n",
              "      <td>0.0</td>\n",
              "      <td>TESLA</td>\n",
              "    </tr>\n",
              "    <tr>\n",
              "      <td>2019-10-14</td>\n",
              "      <td>49.580002</td>\n",
              "      <td>51.709999</td>\n",
              "      <td>49.425999</td>\n",
              "      <td>51.391998</td>\n",
              "      <td>51025000</td>\n",
              "      <td>0</td>\n",
              "      <td>0.0</td>\n",
              "      <td>TESLA</td>\n",
              "    </tr>\n",
              "    <tr>\n",
              "      <td>2019-10-15</td>\n",
              "      <td>51.540001</td>\n",
              "      <td>52.000000</td>\n",
              "      <td>50.824001</td>\n",
              "      <td>51.577999</td>\n",
              "      <td>32164000</td>\n",
              "      <td>0</td>\n",
              "      <td>0.0</td>\n",
              "      <td>TESLA</td>\n",
              "    </tr>\n",
              "    <tr>\n",
              "      <td>2019-10-16</td>\n",
              "      <td>51.478001</td>\n",
              "      <td>52.419998</td>\n",
              "      <td>51.383999</td>\n",
              "      <td>51.950001</td>\n",
              "      <td>33420500</td>\n",
              "      <td>0</td>\n",
              "      <td>0.0</td>\n",
              "      <td>TESLA</td>\n",
              "    </tr>\n",
              "  </tbody>\n",
              "</table>\n",
              "</div>"
            ],
            "text/plain": [
              "                 Open       High        Low      Close    Volume  Dividends  \\\n",
              "Date                                                                          \n",
              "2019-10-10  49.056000  49.855999  48.316002  48.948002  31416500          0   \n",
              "2019-10-11  49.430000  50.216000  49.362000  49.577999  42377000          0   \n",
              "2019-10-14  49.580002  51.709999  49.425999  51.391998  51025000          0   \n",
              "2019-10-15  51.540001  52.000000  50.824001  51.577999  32164000          0   \n",
              "2019-10-16  51.478001  52.419998  51.383999  51.950001  33420500          0   \n",
              "\n",
              "            Stock Splits company_name  \n",
              "Date                                   \n",
              "2019-10-10           0.0        TESLA  \n",
              "2019-10-11           0.0        TESLA  \n",
              "2019-10-14           0.0        TESLA  \n",
              "2019-10-15           0.0        TESLA  \n",
              "2019-10-16           0.0        TESLA  "
            ]
          },
          "metadata": {
            "tags": []
          },
          "execution_count": 22
        }
      ]
    },
    {
      "cell_type": "code",
      "metadata": {
        "id": "Cwfr1dAkcUqy",
        "outputId": "d587a5a8-e353-4373-dcb0-ef83dcc94862"
      },
      "source": [
        "TSLA.tail()"
      ],
      "execution_count": null,
      "outputs": [
        {
          "output_type": "execute_result",
          "data": {
            "text/html": [
              "<div>\n",
              "<style scoped>\n",
              "    .dataframe tbody tr th:only-of-type {\n",
              "        vertical-align: middle;\n",
              "    }\n",
              "\n",
              "    .dataframe tbody tr th {\n",
              "        vertical-align: top;\n",
              "    }\n",
              "\n",
              "    .dataframe thead th {\n",
              "        text-align: right;\n",
              "    }\n",
              "</style>\n",
              "<table border=\"1\" class=\"dataframe\">\n",
              "  <thead>\n",
              "    <tr style=\"text-align: right;\">\n",
              "      <th></th>\n",
              "      <th>Open</th>\n",
              "      <th>High</th>\n",
              "      <th>Low</th>\n",
              "      <th>Close</th>\n",
              "      <th>Volume</th>\n",
              "      <th>Dividends</th>\n",
              "      <th>Stock Splits</th>\n",
              "      <th>company_name</th>\n",
              "    </tr>\n",
              "    <tr>\n",
              "      <th>Date</th>\n",
              "      <th></th>\n",
              "      <th></th>\n",
              "      <th></th>\n",
              "      <th></th>\n",
              "      <th></th>\n",
              "      <th></th>\n",
              "      <th></th>\n",
              "      <th></th>\n",
              "    </tr>\n",
              "  </thead>\n",
              "  <tbody>\n",
              "    <tr>\n",
              "      <td>2020-10-05</td>\n",
              "      <td>423.350006</td>\n",
              "      <td>433.640015</td>\n",
              "      <td>419.329987</td>\n",
              "      <td>425.679993</td>\n",
              "      <td>44722800</td>\n",
              "      <td>0</td>\n",
              "      <td>0.0</td>\n",
              "      <td>TESLA</td>\n",
              "    </tr>\n",
              "    <tr>\n",
              "      <td>2020-10-06</td>\n",
              "      <td>423.790009</td>\n",
              "      <td>428.779999</td>\n",
              "      <td>406.049988</td>\n",
              "      <td>413.980011</td>\n",
              "      <td>49146300</td>\n",
              "      <td>0</td>\n",
              "      <td>0.0</td>\n",
              "      <td>TESLA</td>\n",
              "    </tr>\n",
              "    <tr>\n",
              "      <td>2020-10-07</td>\n",
              "      <td>419.869995</td>\n",
              "      <td>429.899994</td>\n",
              "      <td>413.850006</td>\n",
              "      <td>425.299988</td>\n",
              "      <td>43127700</td>\n",
              "      <td>0</td>\n",
              "      <td>0.0</td>\n",
              "      <td>TESLA</td>\n",
              "    </tr>\n",
              "    <tr>\n",
              "      <td>2020-10-08</td>\n",
              "      <td>438.440002</td>\n",
              "      <td>439.000000</td>\n",
              "      <td>425.299988</td>\n",
              "      <td>425.920013</td>\n",
              "      <td>40231700</td>\n",
              "      <td>0</td>\n",
              "      <td>0.0</td>\n",
              "      <td>TESLA</td>\n",
              "    </tr>\n",
              "    <tr>\n",
              "      <td>2020-10-09</td>\n",
              "      <td>430.130005</td>\n",
              "      <td>434.589905</td>\n",
              "      <td>426.470001</td>\n",
              "      <td>434.000000</td>\n",
              "      <td>28327188</td>\n",
              "      <td>0</td>\n",
              "      <td>0.0</td>\n",
              "      <td>TESLA</td>\n",
              "    </tr>\n",
              "  </tbody>\n",
              "</table>\n",
              "</div>"
            ],
            "text/plain": [
              "                  Open        High         Low       Close    Volume  \\\n",
              "Date                                                                   \n",
              "2020-10-05  423.350006  433.640015  419.329987  425.679993  44722800   \n",
              "2020-10-06  423.790009  428.779999  406.049988  413.980011  49146300   \n",
              "2020-10-07  419.869995  429.899994  413.850006  425.299988  43127700   \n",
              "2020-10-08  438.440002  439.000000  425.299988  425.920013  40231700   \n",
              "2020-10-09  430.130005  434.589905  426.470001  434.000000  28327188   \n",
              "\n",
              "            Dividends  Stock Splits company_name  \n",
              "Date                                              \n",
              "2020-10-05          0           0.0        TESLA  \n",
              "2020-10-06          0           0.0        TESLA  \n",
              "2020-10-07          0           0.0        TESLA  \n",
              "2020-10-08          0           0.0        TESLA  \n",
              "2020-10-09          0           0.0        TESLA  "
            ]
          },
          "metadata": {
            "tags": []
          },
          "execution_count": 23
        }
      ]
    },
    {
      "cell_type": "code",
      "metadata": {
        "id": "qfMaPqSfcUq0",
        "outputId": "de8e6c24-3fe3-43fa-f0c8-31cdd6f8ecbd"
      },
      "source": [
        "TSLA['Close'].plot(figsize=(10,5)) # Closing stock price of TESLA for past one year"
      ],
      "execution_count": null,
      "outputs": [
        {
          "output_type": "execute_result",
          "data": {
            "text/plain": [
              "<matplotlib.axes._subplots.AxesSubplot at 0x21bb31fa9c8>"
            ]
          },
          "metadata": {
            "tags": []
          },
          "execution_count": 32
        },
        {
          "output_type": "display_data",
          "data": {
            "image/png": "[encoded data removed]",
            "text/plain": [
              "<Figure size 720x360 with 1 Axes>"
            ]
          },
          "metadata": {
            "tags": [],
            "needs_background": "light"
          }
        }
      ]
    }
  ]
}